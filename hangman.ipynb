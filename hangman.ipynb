{
 "cells": [
  {
   "cell_type": "code",
   "execution_count": 164,
   "metadata": {},
   "outputs": [],
   "source": [
    "from IPython.display import clear_output\n",
    "import random\n",
    "import time \n",
    "\n",
    "wordList = ['HANG','HELLO','Chef Kiss']\n",
    "\n",
    "spaces = ''\n",
    "\n",
    "count = 0\n",
    "\n",
    "tries = 3\n",
    "\n",
    "randomWord = random.randrange(0,3,1)\n",
    "\n",
    "word = wordList[randomWord]\n",
    "\n",
    "lenWord = len(word)\n",
    "\n",
    "letterHistory = []\n",
    "\n",
    "#Turns the Guess word into black dashes\n",
    "for x in word:\n",
    "    if x == ' ':\n",
    "        spaces += ' '\n",
    "        continue\n",
    "    spaces += '_'"
   ]
  },
  {
   "cell_type": "code",
   "execution_count": 165,
   "metadata": {},
   "outputs": [
    {
     "name": "stdout",
     "output_type": "stream",
     "text": [
      "Game Over\n",
      "The word was HANG\n"
     ]
    }
   ],
   "source": [
    "print('Guess the ' + str(lenWord) + ' letter word')\n",
    "\n",
    "time.sleep(.1)\n",
    "\n",
    "while not (spaces == word or count == tries):\n",
    "    \n",
    "    guessedLetter = input('Enter a Letter')\n",
    "\n",
    "    while len(guessedLetter) > 1:\n",
    "        guessedLetter = input('Please enter single letter')\n",
    "\n",
    "    while guessedLetter in letterHistory:\n",
    "        print('Letter already picked, try agian')\n",
    "        guessedLetter = input('Please enter single letter')\n",
    "\n",
    "    guessedLetter = guessedLetter.lower()\n",
    "\n",
    "    letterHistory.append(guessedLetter)\n",
    "\n",
    "    if word.lower().find(guessedLetter) == -1:\n",
    "        count += 1\n",
    "\n",
    "    #Find the index of the word with the letter inputed\n",
    "    index = [i for i, x in enumerate(word.lower()) if x == guessedLetter]\n",
    "    \n",
    "    #Replaces the '_' with the corrected gussed letter\n",
    "    for i in index:\n",
    "        if i != -1:\n",
    "            listSpace =list(spaces)\n",
    "            listSpace[i]=word[i]\n",
    "            spaces = ''.join(listSpace)\n",
    "    \n",
    "    print(spaces)\n",
    "\n",
    "    triesCount = tries - count\n",
    "\n",
    "    print('You have ' + str(triesCount) + ',Letter used: ' + ' '.join(letterHistory))\n",
    "\n",
    "    clear_output(wait=True)\n",
    "\n",
    "if spaces == word:\n",
    "    print('You Solved It')\n",
    "\n",
    "else:\n",
    "    print('Game Over')\n",
    "    print('The word was ' + word)"
   ]
  },
  {
   "cell_type": "code",
   "execution_count": null,
   "metadata": {},
   "outputs": [],
   "source": []
  }
 ],
 "metadata": {
  "interpreter": {
   "hash": "f8f8baf9350877c5fb0fcfa1133d106fd3909146aa99e6e610e0078814b61386"
  },
  "kernelspec": {
   "display_name": "Python 3.9.7 64-bit ('base': conda)",
   "language": "python",
   "name": "python3"
  },
  "language_info": {
   "codemirror_mode": {
    "name": "ipython",
    "version": 3
   },
   "file_extension": ".py",
   "mimetype": "text/x-python",
   "name": "python",
   "nbconvert_exporter": "python",
   "pygments_lexer": "ipython3",
   "version": "3.9.7"
  },
  "orig_nbformat": 4
 },
 "nbformat": 4,
 "nbformat_minor": 2
}
