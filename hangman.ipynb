{
 "cells": [
  {
   "cell_type": "code",
   "execution_count": 229,
   "metadata": {},
   "outputs": [],
   "source": [
    "word = 'hang'\n",
    "\n",
    "lenWord = len(word)\n",
    "\n",
    "spaces = ''\n",
    "\n",
    "count = 0\n",
    "\n",
    "tries = 3\n",
    "\n",
    "for x in word:\n",
    "    if x == ' ':\n",
    "        spaces += ' '\n",
    "        continue\n",
    "    spaces += '_'\n",
    "    "
   ]
  },
  {
   "cell_type": "code",
   "execution_count": 230,
   "metadata": {},
   "outputs": [
    {
     "name": "stdout",
     "output_type": "stream",
     "text": [
      "Guess the 4 letter word\n",
      "____\n",
      "You have 2\n",
      "____\n",
      "You have 1\n",
      "____\n",
      "You have 0\n",
      "game over\n"
     ]
    }
   ],
   "source": [
    "print('Guess the ' + str(lenWord) + ' letter word')\n",
    "\n",
    "while not (spaces == word or count == tries) :\n",
    "    guestedLetter = input('Enter a Letter')\n",
    "\n",
    "    while len(guestedLetter) > 1:\n",
    "        guestedLetter = input('Please enter single letter')\n",
    "\n",
    "    if word.find(guestedLetter) == -1:\n",
    "        count += 1\n",
    "\n",
    "    index = [i for i, x in enumerate(word) if x == guestedLetter]\n",
    "\n",
    "    for i in index:\n",
    "        if i != -1:\n",
    "            listSpace =list(spaces)\n",
    "            listSpace[i]=guestedLetter\n",
    "            spaces = ''.join(listSpace)\n",
    "    \n",
    "    print(spaces)\n",
    "    triesCount = tries - count\n",
    "\n",
    "    print('You have ' + str(triesCount))\n",
    "\n",
    "\n",
    "if spaces == word:\n",
    "    print('You solved it')\n",
    "else:\n",
    "    print('game over')"
   ]
  },
  {
   "cell_type": "code",
   "execution_count": 212,
   "metadata": {},
   "outputs": [],
   "source": [
    "while not (guestedLetter == '1' or guestedLetter == '2'):\n",
    "    guestedLetter = input('Enter a Letter')\n",
    "guestedLetter = ''\n"
   ]
  },
  {
   "cell_type": "markdown",
   "metadata": {},
   "source": []
  },
  {
   "cell_type": "code",
   "execution_count": 208,
   "metadata": {},
   "outputs": [],
   "source": []
  },
  {
   "cell_type": "code",
   "execution_count": 130,
   "metadata": {},
   "outputs": [
    {
     "name": "stdout",
     "output_type": "stream",
     "text": [
      "____ ___\n"
     ]
    }
   ],
   "source": []
  },
  {
   "cell_type": "code",
   "execution_count": 187,
   "metadata": {},
   "outputs": [
    {
     "data": {
      "text/plain": [
       "1"
      ]
     },
     "execution_count": 187,
     "metadata": {},
     "output_type": "execute_result"
    }
   ],
   "source": [
    "word.find('a')"
   ]
  },
  {
   "cell_type": "code",
   "execution_count": 120,
   "metadata": {},
   "outputs": [
    {
     "data": {
      "text/plain": [
       "'hang man'"
      ]
     },
     "execution_count": 120,
     "metadata": {},
     "output_type": "execute_result"
    }
   ],
   "source": [
    "test"
   ]
  },
  {
   "cell_type": "code",
   "execution_count": null,
   "metadata": {},
   "outputs": [],
   "source": []
  }
 ],
 "metadata": {
  "interpreter": {
   "hash": "f8f8baf9350877c5fb0fcfa1133d106fd3909146aa99e6e610e0078814b61386"
  },
  "kernelspec": {
   "display_name": "Python 3.9.7 64-bit ('base': conda)",
   "language": "python",
   "name": "python3"
  },
  "language_info": {
   "codemirror_mode": {
    "name": "ipython",
    "version": 3
   },
   "file_extension": ".py",
   "mimetype": "text/x-python",
   "name": "python",
   "nbconvert_exporter": "python",
   "pygments_lexer": "ipython3",
   "version": "3.9.7"
  },
  "orig_nbformat": 4
 },
 "nbformat": 4,
 "nbformat_minor": 2
}
